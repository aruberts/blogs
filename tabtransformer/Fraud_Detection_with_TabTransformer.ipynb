{
 "cells": [
  {
   "cell_type": "code",
   "execution_count": 1,
   "metadata": {
    "scrolled": true
   },
   "outputs": [
    {
     "name": "stdout",
     "output_type": "stream",
     "text": [
      "\u001b[33mWARNING: You are using pip version 20.1.1; however, version 21.3.1 is available.\r\n",
      "You should consider upgrading via the '/usr/local/bin/python -m pip install --upgrade pip' command.\u001b[0m\r\n"
     ]
    }
   ],
   "source": [
    "!pip install tabtransformertf --quiet"
   ]
  },
  {
   "cell_type": "code",
   "execution_count": 2,
   "metadata": {},
   "outputs": [
    {
     "name": "stderr",
     "output_type": "stream",
     "text": [
      "/usr/local/lib/python3.6/site-packages/google/auth/crypt/_cryptography_rsa.py:22: CryptographyDeprecationWarning: Python 3.6 is no longer supported by the Python core team. Therefore, support for it is deprecated in cryptography and will be removed in a future release.\n",
      "  import cryptography.exceptions\n"
     ]
    }
   ],
   "source": [
    "import math\n",
    "import numpy as np\n",
    "import pandas as pd\n",
    "import tensorflow as tf\n",
    "import tensorflow_addons as tfa\n",
    "from tensorflow.keras.callbacks import EarlyStopping, ModelCheckpoint\n",
    "\n",
    "import matplotlib.pyplot as plt\n",
    "import seaborn as sns\n",
    "\n",
    "from sklearn.model_selection import train_test_split\n",
    "from sklearn.metrics import average_precision_score, roc_auc_score\n",
    "\n",
    "%matplotlib inline"
   ]
  },
  {
   "cell_type": "code",
   "execution_count": 3,
   "metadata": {},
   "outputs": [],
   "source": [
    "from tabtransformertf.models.tabtransformer import TabTransformer\n",
    "from tabtransformertf.utils.preprocessing import df_to_dataset, build_categorical_prep"
   ]
  },
  {
   "cell_type": "code",
   "execution_count": 4,
   "metadata": {},
   "outputs": [],
   "source": [
    "import absl.logging\n",
    "import warnings\n",
    "import logging\n",
    "\n",
    "logging.captureWarnings(True)\n",
    "warnings.filterwarnings('ignore')\n",
    "absl.logging.set_verbosity(absl.logging.ERROR)"
   ]
  },
  {
   "cell_type": "code",
   "execution_count": 5,
   "metadata": {},
   "outputs": [],
   "source": [
    "train_data = pd.read_csv('fraud_train_preprocessed.csv')\n",
    "val_data = pd.read_csv('fraud_val_preprocessed.csv')"
   ]
  },
  {
   "cell_type": "markdown",
   "metadata": {},
   "source": [
    "## Preprocessing"
   ]
  },
  {
   "cell_type": "code",
   "execution_count": 6,
   "metadata": {},
   "outputs": [],
   "source": [
    "# Column information\n",
    "NUMERIC_FEATURES = train_data.select_dtypes(include=np.number).columns[:-2] # exclude label column and DT\n",
    "CATEGORICAL_FEATURES = train_data.select_dtypes(exclude=np.number).columns\n",
    "\n",
    "FEATURES = list(NUMERIC_FEATURES) + list(CATEGORICAL_FEATURES)\n",
    "LABEL = 'isFraud'"
   ]
  },
  {
   "cell_type": "code",
   "execution_count": 7,
   "metadata": {},
   "outputs": [],
   "source": [
    "# Set data types\n",
    "train_data[CATEGORICAL_FEATURES] = train_data[CATEGORICAL_FEATURES].astype(str)\n",
    "val_data[CATEGORICAL_FEATURES] = val_data[CATEGORICAL_FEATURES].astype(str)\n",
    "\n",
    "train_data[NUMERIC_FEATURES] = train_data[NUMERIC_FEATURES].astype(float)\n",
    "val_data[NUMERIC_FEATURES] = val_data[NUMERIC_FEATURES].astype(float)"
   ]
  },
  {
   "cell_type": "code",
   "execution_count": 8,
   "metadata": {},
   "outputs": [
    {
     "name": "stderr",
     "output_type": "stream",
     "text": [
      "100%|██████████| 46/46 [00:02<00:00, 21.54it/s]\n"
     ]
    }
   ],
   "source": [
    "category_prep_layers = build_categorical_prep(train_data, CATEGORICAL_FEATURES)"
   ]
  },
  {
   "cell_type": "code",
   "execution_count": 9,
   "metadata": {},
   "outputs": [
    {
     "data": {
      "text/plain": [
       "0"
      ]
     },
     "execution_count": 9,
     "metadata": {},
     "output_type": "execute_result"
    }
   ],
   "source": [
    "import gc\n",
    "gc.collect()"
   ]
  },
  {
   "cell_type": "markdown",
   "metadata": {},
   "source": [
    "### TF Dataset"
   ]
  },
  {
   "cell_type": "code",
   "execution_count": 10,
   "metadata": {},
   "outputs": [],
   "source": [
    "train_dataset = df_to_dataset(train_data[FEATURES + [LABEL]], LABEL, batch_size=3072)\n",
    "val_dataset = df_to_dataset(val_data[FEATURES + [LABEL]], LABEL, shuffle=False, batch_size=3072)"
   ]
  },
  {
   "cell_type": "markdown",
   "metadata": {},
   "source": [
    "## TabTransformer"
   ]
  },
  {
   "cell_type": "code",
   "execution_count": 23,
   "metadata": {},
   "outputs": [],
   "source": [
    "tabtransformer = TabTransformer(\n",
    "    numerical_features = NUMERIC_FEATURES,\n",
    "    categorical_features = CATEGORICAL_FEATURES,\n",
    "    categorical_lookup=category_prep_layers,\n",
    "    numerical_discretisers=None, # simply passing the numeric features\n",
    "    embedding_dim=32,\n",
    "    out_dim=1,\n",
    "    out_activation='sigmoid',\n",
    "    depth=4,\n",
    "    heads=8,\n",
    "    attn_dropout=0.1,\n",
    "    ff_dropout=0.1,\n",
    "    mlp_hidden_factors=[2, 4],\n",
    "    use_column_embedding=True,\n",
    ")"
   ]
  },
  {
   "cell_type": "code",
   "execution_count": 26,
   "metadata": {
    "scrolled": false
   },
   "outputs": [
    {
     "name": "stdout",
     "output_type": "stream",
     "text": [
      "Model: \"tab_transformer_1\"\n",
      "_________________________________________________________________\n",
      "Layer (type)                 Output Shape              Param #   \n",
      "=================================================================\n",
      "layer_normalization_9 (Layer multiple                  270       \n",
      "_________________________________________________________________\n",
      "concatenate_3 (Concatenate)  multiple                  0         \n",
      "_________________________________________________________________\n",
      "string_lookup (StringLookup) multiple                  0         \n",
      "_________________________________________________________________\n",
      "string_lookup_1 (StringLooku multiple                  0         \n",
      "_________________________________________________________________\n",
      "string_lookup_2 (StringLooku multiple                  0         \n",
      "_________________________________________________________________\n",
      "string_lookup_3 (StringLooku multiple                  0         \n",
      "_________________________________________________________________\n",
      "string_lookup_4 (StringLooku multiple                  0         \n",
      "_________________________________________________________________\n",
      "string_lookup_5 (StringLooku multiple                  0         \n",
      "_________________________________________________________________\n",
      "string_lookup_6 (StringLooku multiple                  0         \n",
      "_________________________________________________________________\n",
      "string_lookup_7 (StringLooku multiple                  0         \n",
      "_________________________________________________________________\n",
      "string_lookup_8 (StringLooku multiple                  0         \n",
      "_________________________________________________________________\n",
      "string_lookup_9 (StringLooku multiple                  0         \n",
      "_________________________________________________________________\n",
      "string_lookup_10 (StringLook multiple                  0         \n",
      "_________________________________________________________________\n",
      "string_lookup_11 (StringLook multiple                  0         \n",
      "_________________________________________________________________\n",
      "string_lookup_12 (StringLook multiple                  0         \n",
      "_________________________________________________________________\n",
      "string_lookup_13 (StringLook multiple                  0         \n",
      "_________________________________________________________________\n",
      "string_lookup_14 (StringLook multiple                  0         \n",
      "_________________________________________________________________\n",
      "string_lookup_15 (StringLook multiple                  0         \n",
      "_________________________________________________________________\n",
      "string_lookup_16 (StringLook multiple                  0         \n",
      "_________________________________________________________________\n",
      "string_lookup_17 (StringLook multiple                  0         \n",
      "_________________________________________________________________\n",
      "string_lookup_18 (StringLook multiple                  0         \n",
      "_________________________________________________________________\n",
      "string_lookup_19 (StringLook multiple                  0         \n",
      "_________________________________________________________________\n",
      "string_lookup_20 (StringLook multiple                  0         \n",
      "_________________________________________________________________\n",
      "string_lookup_21 (StringLook multiple                  0         \n",
      "_________________________________________________________________\n",
      "string_lookup_22 (StringLook multiple                  0         \n",
      "_________________________________________________________________\n",
      "string_lookup_23 (StringLook multiple                  0         \n",
      "_________________________________________________________________\n",
      "string_lookup_24 (StringLook multiple                  0         \n",
      "_________________________________________________________________\n",
      "string_lookup_25 (StringLook multiple                  0         \n",
      "_________________________________________________________________\n",
      "string_lookup_26 (StringLook multiple                  0         \n",
      "_________________________________________________________________\n",
      "string_lookup_27 (StringLook multiple                  0         \n",
      "_________________________________________________________________\n",
      "string_lookup_28 (StringLook multiple                  0         \n",
      "_________________________________________________________________\n",
      "string_lookup_29 (StringLook multiple                  0         \n",
      "_________________________________________________________________\n",
      "string_lookup_30 (StringLook multiple                  0         \n",
      "_________________________________________________________________\n",
      "string_lookup_31 (StringLook multiple                  0         \n",
      "_________________________________________________________________\n",
      "string_lookup_32 (StringLook multiple                  0         \n",
      "_________________________________________________________________\n",
      "string_lookup_33 (StringLook multiple                  0         \n",
      "_________________________________________________________________\n",
      "string_lookup_34 (StringLook multiple                  0         \n",
      "_________________________________________________________________\n",
      "string_lookup_35 (StringLook multiple                  0         \n",
      "_________________________________________________________________\n",
      "string_lookup_36 (StringLook multiple                  0         \n",
      "_________________________________________________________________\n",
      "string_lookup_37 (StringLook multiple                  0         \n",
      "_________________________________________________________________\n",
      "string_lookup_38 (StringLook multiple                  0         \n",
      "_________________________________________________________________\n",
      "string_lookup_39 (StringLook multiple                  0         \n",
      "_________________________________________________________________\n",
      "string_lookup_40 (StringLook multiple                  0         \n",
      "_________________________________________________________________\n",
      "string_lookup_41 (StringLook multiple                  0         \n",
      "_________________________________________________________________\n",
      "string_lookup_42 (StringLook multiple                  0         \n",
      "_________________________________________________________________\n",
      "string_lookup_43 (StringLook multiple                  0         \n",
      "_________________________________________________________________\n",
      "string_lookup_44 (StringLook multiple                  0         \n",
      "_________________________________________________________________\n",
      "string_lookup_45 (StringLook multiple                  0         \n",
      "_________________________________________________________________\n",
      "embedding_47 (Embedding)     multiple                  704       \n",
      "_________________________________________________________________\n",
      "embedding_48 (Embedding)     multiple                  96        \n",
      "_________________________________________________________________\n",
      "embedding_49 (Embedding)     multiple                  288       \n",
      "_________________________________________________________________\n",
      "embedding_50 (Embedding)     multiple                  224       \n",
      "_________________________________________________________________\n",
      "embedding_51 (Embedding)     multiple                  256       \n",
      "_________________________________________________________________\n",
      "embedding_52 (Embedding)     multiple                  320       \n",
      "_________________________________________________________________\n",
      "embedding_53 (Embedding)     multiple                  288       \n",
      "_________________________________________________________________\n",
      "embedding_54 (Embedding)     multiple                  224       \n",
      "_________________________________________________________________\n",
      "embedding_55 (Embedding)     multiple                  320       \n",
      "_________________________________________________________________\n",
      "embedding_56 (Embedding)     multiple                  192       \n",
      "_________________________________________________________________\n",
      "embedding_57 (Embedding)     multiple                  352       \n",
      "_________________________________________________________________\n",
      "embedding_58 (Embedding)     multiple                  768       \n",
      "_________________________________________________________________\n",
      "embedding_59 (Embedding)     multiple                  128       \n",
      "_________________________________________________________________\n",
      "embedding_60 (Embedding)     multiple                  192       \n",
      "_________________________________________________________________\n",
      "embedding_61 (Embedding)     multiple                  416       \n",
      "_________________________________________________________________\n",
      "embedding_62 (Embedding)     multiple                  192       \n",
      "_________________________________________________________________\n",
      "embedding_63 (Embedding)     multiple                  896       \n",
      "_________________________________________________________________\n",
      "embedding_64 (Embedding)     multiple                  128       \n",
      "_________________________________________________________________\n",
      "embedding_65 (Embedding)     multiple                  128       \n",
      "_________________________________________________________________\n",
      "embedding_66 (Embedding)     multiple                  128       \n",
      "_________________________________________________________________\n",
      "embedding_67 (Embedding)     multiple                  128       \n",
      "_________________________________________________________________\n",
      "embedding_68 (Embedding)     multiple                  160       \n",
      "_________________________________________________________________\n",
      "embedding_69 (Embedding)     multiple                  128       \n",
      "_________________________________________________________________\n",
      "embedding_70 (Embedding)     multiple                  128       \n",
      "_________________________________________________________________\n",
      "embedding_71 (Embedding)     multiple                  128       \n",
      "_________________________________________________________________\n",
      "embedding_72 (Embedding)     multiple                  128       \n",
      "_________________________________________________________________\n",
      "embedding_73 (Embedding)     multiple                  128       \n",
      "_________________________________________________________________\n",
      "embedding_74 (Embedding)     multiple                  128       \n",
      "_________________________________________________________________\n",
      "embedding_75 (Embedding)     multiple                  128       \n",
      "_________________________________________________________________\n",
      "embedding_76 (Embedding)     multiple                  224       \n",
      "_________________________________________________________________\n",
      "embedding_77 (Embedding)     multiple                  192       \n",
      "_________________________________________________________________\n",
      "embedding_78 (Embedding)     multiple                  160       \n",
      "_________________________________________________________________\n",
      "embedding_79 (Embedding)     multiple                  128       \n",
      "_________________________________________________________________\n",
      "embedding_80 (Embedding)     multiple                  160       \n",
      "_________________________________________________________________\n",
      "embedding_81 (Embedding)     multiple                  160       \n",
      "_________________________________________________________________\n",
      "embedding_82 (Embedding)     multiple                  256       \n",
      "_________________________________________________________________\n",
      "embedding_83 (Embedding)     multiple                  192       \n",
      "_________________________________________________________________\n",
      "embedding_84 (Embedding)     multiple                  128       \n",
      "_________________________________________________________________\n",
      "embedding_85 (Embedding)     multiple                  128       \n",
      "_________________________________________________________________\n",
      "embedding_86 (Embedding)     multiple                  192       \n",
      "_________________________________________________________________\n",
      "embedding_87 (Embedding)     multiple                  192       \n",
      "_________________________________________________________________\n",
      "embedding_88 (Embedding)     multiple                  192       \n",
      "_________________________________________________________________\n",
      "embedding_89 (Embedding)     multiple                  128       \n",
      "_________________________________________________________________\n",
      "embedding_90 (Embedding)     multiple                  128       \n",
      "_________________________________________________________________\n",
      "embedding_91 (Embedding)     multiple                  128       \n",
      "_________________________________________________________________\n",
      "embedding_92 (Embedding)     multiple                  128       \n",
      "_________________________________________________________________\n",
      "embedding_93 (Embedding)     multiple                  1472      \n",
      "_________________________________________________________________\n",
      "concatenate_4 (Concatenate)  multiple                  0         \n",
      "_________________________________________________________________\n",
      "transformer_block_4 (Transfo multiple                  35808     \n",
      "_________________________________________________________________\n",
      "transformer_block_5 (Transfo multiple                  35808     \n",
      "_________________________________________________________________\n",
      "transformer_block_6 (Transfo multiple                  35808     \n",
      "_________________________________________________________________\n",
      "transformer_block_7 (Transfo multiple                  35808     \n",
      "_________________________________________________________________\n",
      "flatten_1 (Flatten)          multiple                  0         \n",
      "_________________________________________________________________\n",
      "concatenate_5 (Concatenate)  multiple                  0         \n",
      "_________________________________________________________________\n",
      "sequential_9 (Sequential)    (None, 401)               1623268   \n",
      "_________________________________________________________________\n",
      "dense_21 (Dense)             multiple                  402       \n",
      "=================================================================\n",
      "Total params: 1,778,884\n",
      "Trainable params: 1,774,064\n",
      "Non-trainable params: 4,820\n",
      "_________________________________________________________________\n"
     ]
    }
   ],
   "source": [
    "tabtransformer.summary()"
   ]
  },
  {
   "cell_type": "code",
   "execution_count": 24,
   "metadata": {},
   "outputs": [],
   "source": [
    "LEARNING_RATE = 0.0001\n",
    "WEIGHT_DECAY = 0.0001\n",
    "NUM_EPOCHS = 1000\n",
    "\n",
    "optimizer = tfa.optimizers.AdamW(\n",
    "        learning_rate=LEARNING_RATE, weight_decay=WEIGHT_DECAY\n",
    "    )\n",
    "\n",
    "tabtransformer.compile(\n",
    "    optimizer = optimizer,\n",
    "    loss = tf.keras.losses.BinaryCrossentropy(),\n",
    "    metrics= [tf.keras.metrics.AUC(name=\"PR AUC\", curve='PR')],\n",
    ")"
   ]
  },
  {
   "cell_type": "code",
   "execution_count": 25,
   "metadata": {
    "scrolled": false
   },
   "outputs": [
    {
     "name": "stdout",
     "output_type": "stream",
     "text": [
      "Epoch 1/1000\n",
      "174/174 [==============================] - 128s 404ms/step - loss: 0.1581 - PR AUC: 0.2005 - val_loss: 0.1525 - val_PR AUC: 0.3457\n",
      "\n",
      "Epoch 00001: val_loss improved from inf to 0.15253, saving model to ./tabTransformerBasic\n",
      "INFO:tensorflow:Assets written to: ./tabTransformerBasic/assets\n"
     ]
    },
    {
     "name": "stderr",
     "output_type": "stream",
     "text": [
      "INFO:tensorflow:Assets written to: ./tabTransformerBasic/assets\n"
     ]
    },
    {
     "name": "stdout",
     "output_type": "stream",
     "text": [
      "Epoch 2/1000\n",
      "174/174 [==============================] - 113s 392ms/step - loss: 0.1132 - PR AUC: 0.3807 - val_loss: 0.1293 - val_PR AUC: 0.3911\n",
      "\n",
      "Epoch 00002: val_loss improved from 0.15253 to 0.12931, saving model to ./tabTransformerBasic\n",
      "INFO:tensorflow:Assets written to: ./tabTransformerBasic/assets\n"
     ]
    },
    {
     "name": "stderr",
     "output_type": "stream",
     "text": [
      "INFO:tensorflow:Assets written to: ./tabTransformerBasic/assets\n"
     ]
    },
    {
     "name": "stdout",
     "output_type": "stream",
     "text": [
      "Epoch 3/1000\n",
      "174/174 [==============================] - 112s 408ms/step - loss: 0.1086 - PR AUC: 0.4129 - val_loss: 0.1245 - val_PR AUC: 0.4164\n",
      "\n",
      "Epoch 00003: val_loss improved from 0.12931 to 0.12446, saving model to ./tabTransformerBasic\n",
      "INFO:tensorflow:Assets written to: ./tabTransformerBasic/assets\n"
     ]
    },
    {
     "name": "stderr",
     "output_type": "stream",
     "text": [
      "INFO:tensorflow:Assets written to: ./tabTransformerBasic/assets\n"
     ]
    },
    {
     "name": "stdout",
     "output_type": "stream",
     "text": [
      "Epoch 4/1000\n",
      "174/174 [==============================] - 108s 397ms/step - loss: 0.1059 - PR AUC: 0.4332 - val_loss: 0.1285 - val_PR AUC: 0.3577\n",
      "\n",
      "Epoch 00004: val_loss did not improve from 0.12446\n",
      "Epoch 5/1000\n",
      "174/174 [==============================] - 115s 422ms/step - loss: 0.1056 - PR AUC: 0.4376 - val_loss: 0.1162 - val_PR AUC: 0.4186\n",
      "\n",
      "Epoch 00005: val_loss improved from 0.12446 to 0.11619, saving model to ./tabTransformerBasic\n",
      "INFO:tensorflow:Assets written to: ./tabTransformerBasic/assets\n"
     ]
    },
    {
     "name": "stderr",
     "output_type": "stream",
     "text": [
      "INFO:tensorflow:Assets written to: ./tabTransformerBasic/assets\n"
     ]
    },
    {
     "name": "stdout",
     "output_type": "stream",
     "text": [
      "Epoch 6/1000\n",
      "174/174 [==============================] - 108s 398ms/step - loss: 0.1021 - PR AUC: 0.4608 - val_loss: 0.1188 - val_PR AUC: 0.3886\n",
      "\n",
      "Epoch 00006: val_loss did not improve from 0.11619\n",
      "Epoch 7/1000\n",
      "174/174 [==============================] - 116s 424ms/step - loss: 0.1019 - PR AUC: 0.4646 - val_loss: 0.1195 - val_PR AUC: 0.4059\n",
      "\n",
      "Epoch 00007: val_loss did not improve from 0.11619\n",
      "Epoch 8/1000\n",
      "174/174 [==============================] - 108s 398ms/step - loss: 0.0993 - PR AUC: 0.4844 - val_loss: 0.1182 - val_PR AUC: 0.4195\n",
      "\n",
      "Epoch 00008: val_loss did not improve from 0.11619\n",
      "Epoch 9/1000\n",
      "174/174 [==============================] - 116s 426ms/step - loss: 0.0998 - PR AUC: 0.4800 - val_loss: 0.1156 - val_PR AUC: 0.4172\n",
      "\n",
      "Epoch 00009: val_loss improved from 0.11619 to 0.11560, saving model to ./tabTransformerBasic\n",
      "INFO:tensorflow:Assets written to: ./tabTransformerBasic/assets\n"
     ]
    },
    {
     "name": "stderr",
     "output_type": "stream",
     "text": [
      "INFO:tensorflow:Assets written to: ./tabTransformerBasic/assets\n"
     ]
    },
    {
     "name": "stdout",
     "output_type": "stream",
     "text": [
      "Epoch 10/1000\n",
      "174/174 [==============================] - 109s 399ms/step - loss: 0.0975 - PR AUC: 0.4982 - val_loss: 0.1177 - val_PR AUC: 0.4044\n",
      "\n",
      "Epoch 00010: val_loss did not improve from 0.11560\n",
      "Epoch 11/1000\n",
      "174/174 [==============================] - 117s 426ms/step - loss: 0.0966 - PR AUC: 0.5052 - val_loss: 0.1134 - val_PR AUC: 0.4211\n",
      "\n",
      "Epoch 00011: val_loss improved from 0.11560 to 0.11343, saving model to ./tabTransformerBasic\n",
      "INFO:tensorflow:Assets written to: ./tabTransformerBasic/assets\n"
     ]
    },
    {
     "name": "stderr",
     "output_type": "stream",
     "text": [
      "INFO:tensorflow:Assets written to: ./tabTransformerBasic/assets\n"
     ]
    },
    {
     "name": "stdout",
     "output_type": "stream",
     "text": [
      "Epoch 12/1000\n",
      "174/174 [==============================] - 108s 400ms/step - loss: 0.0959 - PR AUC: 0.5101 - val_loss: 0.1165 - val_PR AUC: 0.4194\n",
      "\n",
      "Epoch 00012: val_loss did not improve from 0.11343\n",
      "Epoch 13/1000\n",
      "174/174 [==============================] - 111s 406ms/step - loss: 0.0944 - PR AUC: 0.5230 - val_loss: 0.1100 - val_PR AUC: 0.4408\n",
      "\n",
      "Epoch 00013: val_loss improved from 0.11343 to 0.10995, saving model to ./tabTransformerBasic\n",
      "INFO:tensorflow:Assets written to: ./tabTransformerBasic/assets\n"
     ]
    },
    {
     "name": "stderr",
     "output_type": "stream",
     "text": [
      "INFO:tensorflow:Assets written to: ./tabTransformerBasic/assets\n"
     ]
    },
    {
     "name": "stdout",
     "output_type": "stream",
     "text": [
      "Epoch 14/1000\n",
      "174/174 [==============================] - 109s 400ms/step - loss: 0.0934 - PR AUC: 0.5310 - val_loss: 0.1137 - val_PR AUC: 0.4205\n",
      "\n",
      "Epoch 00014: val_loss did not improve from 0.10995\n",
      "Epoch 15/1000\n",
      "174/174 [==============================] - 109s 400ms/step - loss: 0.0925 - PR AUC: 0.5390 - val_loss: 0.1180 - val_PR AUC: 0.3995\n",
      "\n",
      "Epoch 00015: val_loss did not improve from 0.10995\n",
      "Epoch 16/1000\n",
      "174/174 [==============================] - 108s 400ms/step - loss: 0.0927 - PR AUC: 0.5364 - val_loss: 0.1131 - val_PR AUC: 0.4298\n",
      "\n",
      "Epoch 00016: val_loss did not improve from 0.10995\n",
      "Epoch 17/1000\n",
      "174/174 [==============================] - 110s 403ms/step - loss: 0.0909 - PR AUC: 0.5506 - val_loss: 0.1145 - val_PR AUC: 0.4472\n",
      "\n",
      "Epoch 00017: val_loss did not improve from 0.10995\n",
      "Epoch 18/1000\n",
      "174/174 [==============================] - 108s 401ms/step - loss: 0.0916 - PR AUC: 0.5444 - val_loss: 0.1124 - val_PR AUC: 0.4443\n",
      "\n",
      "Epoch 00018: val_loss did not improve from 0.10995\n",
      "Epoch 19/1000\n",
      "174/174 [==============================] - 110s 401ms/step - loss: 0.0902 - PR AUC: 0.5576 - val_loss: 0.1089 - val_PR AUC: 0.4500\n",
      "\n",
      "Epoch 00019: val_loss improved from 0.10995 to 0.10888, saving model to ./tabTransformerBasic\n",
      "INFO:tensorflow:Assets written to: ./tabTransformerBasic/assets\n"
     ]
    },
    {
     "name": "stderr",
     "output_type": "stream",
     "text": [
      "INFO:tensorflow:Assets written to: ./tabTransformerBasic/assets\n"
     ]
    },
    {
     "name": "stdout",
     "output_type": "stream",
     "text": [
      "Epoch 20/1000\n",
      "174/174 [==============================] - 108s 400ms/step - loss: 0.0895 - PR AUC: 0.5608 - val_loss: 0.1105 - val_PR AUC: 0.4431\n",
      "\n",
      "Epoch 00020: val_loss did not improve from 0.10888\n",
      "Epoch 21/1000\n",
      "174/174 [==============================] - 110s 403ms/step - loss: 0.0886 - PR AUC: 0.5685 - val_loss: 0.1116 - val_PR AUC: 0.4350\n",
      "\n",
      "Epoch 00021: val_loss did not improve from 0.10888\n",
      "Epoch 22/1000\n",
      "174/174 [==============================] - 109s 398ms/step - loss: 0.0880 - PR AUC: 0.5745 - val_loss: 0.1170 - val_PR AUC: 0.4470\n",
      "\n",
      "Epoch 00022: val_loss did not improve from 0.10888\n",
      "Epoch 23/1000\n",
      "174/174 [==============================] - 111s 403ms/step - loss: 0.0883 - PR AUC: 0.5715 - val_loss: 0.1083 - val_PR AUC: 0.4564\n",
      "\n",
      "Epoch 00023: val_loss improved from 0.10888 to 0.10835, saving model to ./tabTransformerBasic\n",
      "INFO:tensorflow:Assets written to: ./tabTransformerBasic/assets\n"
     ]
    },
    {
     "name": "stderr",
     "output_type": "stream",
     "text": [
      "INFO:tensorflow:Assets written to: ./tabTransformerBasic/assets\n"
     ]
    },
    {
     "name": "stdout",
     "output_type": "stream",
     "text": [
      "Epoch 24/1000\n",
      "174/174 [==============================] - 110s 404ms/step - loss: 0.0866 - PR AUC: 0.5847 - val_loss: 0.1114 - val_PR AUC: 0.4472\n",
      "\n",
      "Epoch 00024: val_loss did not improve from 0.10835\n",
      "Epoch 25/1000\n",
      "174/174 [==============================] - 110s 403ms/step - loss: 0.0861 - PR AUC: 0.5892 - val_loss: 0.1086 - val_PR AUC: 0.4518\n",
      "\n",
      "Epoch 00025: val_loss did not improve from 0.10835\n",
      "Epoch 26/1000\n",
      "174/174 [==============================] - 109s 401ms/step - loss: 0.0865 - PR AUC: 0.5857 - val_loss: 0.1073 - val_PR AUC: 0.4620\n",
      "\n",
      "Epoch 00026: val_loss improved from 0.10835 to 0.10732, saving model to ./tabTransformerBasic\n",
      "INFO:tensorflow:Assets written to: ./tabTransformerBasic/assets\n"
     ]
    },
    {
     "name": "stderr",
     "output_type": "stream",
     "text": [
      "INFO:tensorflow:Assets written to: ./tabTransformerBasic/assets\n"
     ]
    },
    {
     "name": "stdout",
     "output_type": "stream",
     "text": [
      "Epoch 27/1000\n",
      "174/174 [==============================] - 107s 397ms/step - loss: 0.0856 - PR AUC: 0.5917 - val_loss: 0.1085 - val_PR AUC: 0.4583\n",
      "\n",
      "Epoch 00027: val_loss did not improve from 0.10732\n",
      "Epoch 28/1000\n",
      "174/174 [==============================] - 109s 405ms/step - loss: 0.0850 - PR AUC: 0.5975 - val_loss: 0.1134 - val_PR AUC: 0.4329\n",
      "\n",
      "Epoch 00028: val_loss did not improve from 0.10732\n",
      "Epoch 29/1000\n",
      "174/174 [==============================] - 108s 402ms/step - loss: 0.0852 - PR AUC: 0.5958 - val_loss: 0.1145 - val_PR AUC: 0.4264\n",
      "\n",
      "Epoch 00029: val_loss did not improve from 0.10732\n",
      "Epoch 30/1000\n",
      "174/174 [==============================] - 110s 408ms/step - loss: 0.0849 - PR AUC: 0.5980 - val_loss: 0.1062 - val_PR AUC: 0.4701\n",
      "\n",
      "Epoch 00030: val_loss improved from 0.10732 to 0.10615, saving model to ./tabTransformerBasic\n",
      "INFO:tensorflow:Assets written to: ./tabTransformerBasic/assets\n"
     ]
    },
    {
     "name": "stderr",
     "output_type": "stream",
     "text": [
      "INFO:tensorflow:Assets written to: ./tabTransformerBasic/assets\n"
     ]
    },
    {
     "name": "stdout",
     "output_type": "stream",
     "text": [
      "Epoch 31/1000\n",
      "174/174 [==============================] - 109s 399ms/step - loss: 0.0837 - PR AUC: 0.6070 - val_loss: 0.1152 - val_PR AUC: 0.4020\n",
      "\n",
      "Epoch 00031: val_loss did not improve from 0.10615\n",
      "Epoch 32/1000\n",
      "174/174 [==============================] - 109s 399ms/step - loss: 0.0845 - PR AUC: 0.6012 - val_loss: 0.1093 - val_PR AUC: 0.4524\n",
      "\n",
      "Epoch 00032: val_loss did not improve from 0.10615\n",
      "Epoch 33/1000\n",
      "174/174 [==============================] - 108s 400ms/step - loss: 0.0827 - PR AUC: 0.6139 - val_loss: 0.1118 - val_PR AUC: 0.4541\n",
      "\n",
      "Epoch 00033: val_loss did not improve from 0.10615\n",
      "Epoch 34/1000\n",
      "174/174 [==============================] - 109s 400ms/step - loss: 0.0844 - PR AUC: 0.6005 - val_loss: 0.1087 - val_PR AUC: 0.4615\n",
      "\n",
      "Epoch 00034: val_loss did not improve from 0.10615\n",
      "Epoch 35/1000\n",
      "174/174 [==============================] - 111s 405ms/step - loss: 0.0843 - PR AUC: 0.6009 - val_loss: 0.1098 - val_PR AUC: 0.4607\n",
      "\n",
      "Epoch 00035: val_loss did not improve from 0.10615\n",
      "Epoch 36/1000\n",
      "174/174 [==============================] - 109s 396ms/step - loss: 0.0835 - PR AUC: 0.6070 - val_loss: 0.1093 - val_PR AUC: 0.4621\n",
      "\n",
      "Epoch 00036: val_loss did not improve from 0.10615\n",
      "Epoch 37/1000\n",
      "174/174 [==============================] - 111s 405ms/step - loss: 0.0816 - PR AUC: 0.6216 - val_loss: 0.1137 - val_PR AUC: 0.4322\n",
      "\n",
      "Epoch 00037: val_loss did not improve from 0.10615\n",
      "Epoch 38/1000\n",
      "174/174 [==============================] - 109s 401ms/step - loss: 0.0828 - PR AUC: 0.6136 - val_loss: 0.1083 - val_PR AUC: 0.4661\n",
      "\n",
      "Epoch 00038: val_loss did not improve from 0.10615\n",
      "Epoch 39/1000\n",
      "174/174 [==============================] - 110s 403ms/step - loss: 0.0813 - PR AUC: 0.6237 - val_loss: 0.1105 - val_PR AUC: 0.4414\n",
      "\n",
      "Epoch 00039: val_loss did not improve from 0.10615\n",
      "Epoch 40/1000\n",
      "174/174 [==============================] - 108s 398ms/step - loss: 0.0818 - PR AUC: 0.6216 - val_loss: 0.1109 - val_PR AUC: 0.4560\n",
      "\n",
      "Epoch 00040: val_loss did not improve from 0.10615\n"
     ]
    }
   ],
   "source": [
    "out_file = './tabTransformerBasic'\n",
    "checkpoint = ModelCheckpoint(\n",
    "    out_file, monitor=\"val_loss\", verbose=1, save_best_only=True, mode=\"min\"\n",
    ")\n",
    "early = EarlyStopping(monitor=\"val_loss\", mode=\"min\", patience=10, restore_best_weights=True)\n",
    "callback_list = [checkpoint, early]\n",
    "\n",
    "history = tabtransformer.fit(\n",
    "    train_dataset, \n",
    "    epochs=NUM_EPOCHS, \n",
    "    validation_data=val_dataset,\n",
    "    callbacks=callback_list\n",
    ")"
   ]
  },
  {
   "cell_type": "code",
   "execution_count": 13,
   "metadata": {},
   "outputs": [],
   "source": [
    "tabtransformer = tf.keras.models.load_model('./tabTransformerBasic')"
   ]
  },
  {
   "cell_type": "code",
   "execution_count": 12,
   "metadata": {},
   "outputs": [
    {
     "name": "stdout",
     "output_type": "stream",
     "text": [
      "PR AUC: 0.4701335294324417\n",
      "ROC AUC: 0.8794082315520849\n"
     ]
    }
   ],
   "source": [
    "val_preds = tabtransformer.predict(val_dataset)\n",
    "\n",
    "print(f\"PR AUC: {average_precision_score(val_data['isFraud'], val_preds.ravel())}\")\n",
    "print(f\"ROC AUC: {roc_auc_score(val_data['isFraud'], val_preds.ravel())}\")"
   ]
  },
  {
   "cell_type": "markdown",
   "metadata": {},
   "source": [
    "## Test set prediction"
   ]
  },
  {
   "cell_type": "code",
   "execution_count": 9,
   "metadata": {},
   "outputs": [],
   "source": [
    "test_data = pd.read_csv('fraud_test_preprocessed.csv')"
   ]
  },
  {
   "cell_type": "code",
   "execution_count": 10,
   "metadata": {},
   "outputs": [],
   "source": [
    "test_data[CATEGORICAL_FEATURES] = test_data[CATEGORICAL_FEATURES].astype(str)\n",
    "test_data[NUMERIC_FEATURES] = test_data[NUMERIC_FEATURES].astype(float)"
   ]
  },
  {
   "cell_type": "code",
   "execution_count": 11,
   "metadata": {},
   "outputs": [],
   "source": [
    "test_dataset = df_to_dataset(test_data[FEATURES], None, shuffle=False, batch_size=56)"
   ]
  },
  {
   "cell_type": "code",
   "execution_count": 14,
   "metadata": {},
   "outputs": [],
   "source": [
    "test_preds = tabtransformer.predict(test_dataset)"
   ]
  },
  {
   "cell_type": "code",
   "execution_count": 15,
   "metadata": {},
   "outputs": [],
   "source": [
    "transaction_ids = pd.read_csv('../test_transaction.csv', usecols=['TransactionID'])\n",
    "submission_df = pd.DataFrame({\"TransactionID\": transaction_ids.values.ravel(),\n",
    "              \"isFraud\": test_preds.ravel()\n",
    "             })\n",
    "submission_df.to_csv(\"tabtransformer_basic_submission.csv\", index=False)"
   ]
  },
  {
   "cell_type": "code",
   "execution_count": 23,
   "metadata": {},
   "outputs": [
    {
     "data": {
      "text/html": [
       "<div>\n",
       "<style scoped>\n",
       "    .dataframe tbody tr th:only-of-type {\n",
       "        vertical-align: middle;\n",
       "    }\n",
       "\n",
       "    .dataframe tbody tr th {\n",
       "        vertical-align: top;\n",
       "    }\n",
       "\n",
       "    .dataframe thead th {\n",
       "        text-align: right;\n",
       "    }\n",
       "</style>\n",
       "<table border=\"1\" class=\"dataframe\">\n",
       "  <thead>\n",
       "    <tr style=\"text-align: right;\">\n",
       "      <th></th>\n",
       "      <th>TransactionID</th>\n",
       "      <th>isFraud</th>\n",
       "    </tr>\n",
       "  </thead>\n",
       "  <tbody>\n",
       "    <tr>\n",
       "      <th>145394</th>\n",
       "      <td>3808943</td>\n",
       "      <td>0.025497</td>\n",
       "    </tr>\n",
       "    <tr>\n",
       "      <th>378395</th>\n",
       "      <td>4041944</td>\n",
       "      <td>0.007631</td>\n",
       "    </tr>\n",
       "    <tr>\n",
       "      <th>48681</th>\n",
       "      <td>3712230</td>\n",
       "      <td>0.028034</td>\n",
       "    </tr>\n",
       "    <tr>\n",
       "      <th>279758</th>\n",
       "      <td>3943307</td>\n",
       "      <td>0.025208</td>\n",
       "    </tr>\n",
       "  </tbody>\n",
       "</table>\n",
       "</div>"
      ],
      "text/plain": [
       "        TransactionID   isFraud\n",
       "145394        3808943  0.025497\n",
       "378395        4041944  0.007631\n",
       "48681         3712230  0.028034\n",
       "279758        3943307  0.025208"
      ]
     },
     "execution_count": 23,
     "metadata": {},
     "output_type": "execute_result"
    }
   ],
   "source": [
    "submission_df.sample(4)"
   ]
  },
  {
   "cell_type": "code",
   "execution_count": null,
   "metadata": {},
   "outputs": [],
   "source": []
  }
 ],
 "metadata": {
  "kernelspec": {
   "display_name": "Python 3",
   "language": "python",
   "name": "python3"
  },
  "language_info": {
   "codemirror_mode": {
    "name": "ipython",
    "version": 3
   },
   "file_extension": ".py",
   "mimetype": "text/x-python",
   "name": "python",
   "nbconvert_exporter": "python",
   "pygments_lexer": "ipython3",
   "version": "3.6.10"
  }
 },
 "nbformat": 4,
 "nbformat_minor": 2
}
