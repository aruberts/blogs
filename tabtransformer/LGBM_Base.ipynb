{
 "cells": [
  {
   "cell_type": "code",
   "execution_count": 1,
   "metadata": {},
   "outputs": [
    {
     "name": "stderr",
     "output_type": "stream",
     "text": [
      "/usr/local/lib/python3.6/site-packages/google/auth/crypt/_cryptography_rsa.py:22: CryptographyDeprecationWarning: Python 3.6 is no longer supported by the Python core team. Therefore, support for it is deprecated in cryptography and will be removed in a future release.\n",
      "  import cryptography.exceptions\n"
     ]
    }
   ],
   "source": [
    "import math\n",
    "import numpy as np\n",
    "import pandas as pd\n",
    "from lightgbm import LGBMClassifier\n",
    "\n",
    "import matplotlib.pyplot as plt\n",
    "\n",
    "import seaborn as sns\n",
    "from tqdm import tqdm\n",
    "\n",
    "from sklearn.model_selection import train_test_split\n",
    "from sklearn.metrics import average_precision_score, roc_auc_score\n",
    "\n",
    "\n",
    "\n",
    "\n",
    "%matplotlib inline"
   ]
  },
  {
   "cell_type": "code",
   "execution_count": null,
   "metadata": {},
   "outputs": [],
   "source": [
    "train_data = pd.read_csv('fraud_train_preprocessed.csv')\n",
    "val_data = pd.read_csv('fraud_val_preprocessed.csv')\n",
    "test_data = pd.read_csv('fraud_test_preprocessed.csv')"
   ]
  },
  {
   "cell_type": "code",
   "execution_count": null,
   "metadata": {},
   "outputs": [],
   "source": [
    "# Column information\n",
    "NUMERIC_FEATURES = train_data.select_dtypes(include=np.number).columns[:-2] # exclude label column and DT\n",
    "CATEGORICAL_FEATURES = train_data.select_dtypes(exclude=np.number).columns\n",
    "\n",
    "FEATURES = list(NUMERIC_FEATURES) + list(CATEGORICAL_FEATURES)\n",
    "LABEL = 'isFraud'"
   ]
  },
  {
   "cell_type": "code",
   "execution_count": null,
   "metadata": {},
   "outputs": [],
   "source": [
    "train_data[CATEGORICAL_FEATURES] = train_data[CATEGORICAL_FEATURES].astype(\"category\")\n",
    "val_data[CATEGORICAL_FEATURES] = val_data[CATEGORICAL_FEATURES].astype(\"category\")\n",
    "test_data[CATEGORICAL_FEATURES] = test_data[CATEGORICAL_FEATURES].astype(\"category\")\n",
    "\n",
    "train_data[NUMERIC_FEATURES] = train_data[NUMERIC_FEATURES].astype(float)\n",
    "val_data[NUMERIC_FEATURES] = val_data[NUMERIC_FEATURES].astype(float)\n",
    "test_data[NUMERIC_FEATURES] = test_data[NUMERIC_FEATURES].astype(float)\n"
   ]
  },
  {
   "cell_type": "code",
   "execution_count": null,
   "metadata": {},
   "outputs": [],
   "source": [
    "base_lgbm = LGBMClassifier(objective=\"binary\", n_estimators=10000)\n",
    "eval_set = [(val_data[FEATURES], val_data[LABEL])]\n",
    "\n",
    "base_lgbm.fit(\n",
    "    train_data[FEATURES],\n",
    "    train_data[LABEL],\n",
    "    eval_set=eval_set,\n",
    "    early_stopping_rounds=100,\n",
    "    eval_metric=\"binary_logloss\",\n",
    ")"
   ]
  },
  {
   "cell_type": "code",
   "execution_count": null,
   "metadata": {},
   "outputs": [],
   "source": [
    "lgbm_val_preds = base_lgbm.predict_proba(val_data[FEATURES])\n",
    "print(f\"PR AUC: {average_precision_score(val_data[LABEL], lgbm_val_preds[:, 1])}\")\n",
    "print(f\"ROC AUC: {roc_auc_score(val_data[LABEL], lgbm_val_preds[:, 1])}\")"
   ]
  },
  {
   "cell_type": "code",
   "execution_count": null,
   "metadata": {},
   "outputs": [],
   "source": [
    "lgbm_test_preds = base_lgbm.predict_proba(test_data[FEATURES])"
   ]
  },
  {
   "cell_type": "code",
   "execution_count": null,
   "metadata": {},
   "outputs": [],
   "source": [
    "transaction_ids = pd.read_csv('../test_transaction.csv', usecols=['TransactionID'])\n",
    "submission_df = pd.DataFrame({\"TransactionID\": transaction_ids.values.ravel(),\n",
    "              \"isFraud\": lgbm_test_preds[:, 1]\n",
    "             })\n",
    "submission_df.to_csv(\"lgbm_submission.csv\", index=False)"
   ]
  },
  {
   "cell_type": "code",
   "execution_count": null,
   "metadata": {},
   "outputs": [],
   "source": []
  },
  {
   "cell_type": "code",
   "execution_count": null,
   "metadata": {},
   "outputs": [],
   "source": []
  }
 ],
 "metadata": {
  "kernelspec": {
   "display_name": "Python 3",
   "language": "python",
   "name": "python3"
  },
  "language_info": {
   "codemirror_mode": {
    "name": "ipython",
    "version": 3
   },
   "file_extension": ".py",
   "mimetype": "text/x-python",
   "name": "python",
   "nbconvert_exporter": "python",
   "pygments_lexer": "ipython3",
   "version": "3.6.10"
  }
 },
 "nbformat": 4,
 "nbformat_minor": 2
}
