{
 "cells": [
  {
   "cell_type": "markdown",
   "metadata": {},
   "source": [
    "# VIME: Self/Semi Supervised Learning for Tabular Data"
   ]
  },
  {
   "cell_type": "markdown",
   "metadata": {},
   "source": [
    "# Setup"
   ]
  },
  {
   "cell_type": "code",
   "execution_count": 8,
   "metadata": {},
   "outputs": [],
   "source": [
    "import sys\n",
    "sys.path.append('../')"
   ]
  },
  {
   "cell_type": "code",
   "execution_count": 9,
   "metadata": {},
   "outputs": [],
   "source": [
    "import matplotlib.pyplot as plt\n",
    "import numpy as np\n",
    "import pandas as pd\n",
    "import seaborn as sns\n",
    "import tensorflow as tf\n",
    "import umap\n",
    "from sklearn.metrics import (average_precision_score, mean_squared_error,\n",
    "                             roc_auc_score)\n",
    "from sklearn.model_selection import train_test_split\n",
    "from tqdm import tqdm\n",
    "from vime.vime import VIME, VIME_Self\n",
    "from vime.vime_data import (\n",
    "    labelled_loss_fn, mask_generator_tf,\n",
    "    pretext_generator_tf, semi_supervised_generator,\n",
    "    to_vime_dataset, unlabelled_loss_fn\n",
    ")"
   ]
  },
  {
   "cell_type": "code",
   "execution_count": 10,
   "metadata": {},
   "outputs": [],
   "source": [
    "%matplotlib inline\n",
    "%load_ext autoreload\n",
    "%autoreload 2\n",
    "\n",
    "plt.rcParams[\"figure.figsize\"] = (20,10)"
   ]
  },
  {
   "cell_type": "markdown",
   "metadata": {},
   "source": [
    "# Data"
   ]
  },
  {
   "cell_type": "markdown",
   "metadata": {},
   "source": [
    "The example data is taken from [Kaggle](https://www.kaggle.com/c/ieee-fraud-detection) but it's already pre-processed and ready to be used. You can checkout the pre-processing notebook in the same folder to get some understanding about what transformations were done to the features."
   ]
  },
  {
   "cell_type": "code",
   "execution_count": 11,
   "metadata": {},
   "outputs": [],
   "source": [
    "train = pd.read_csv(\"../data/fraud_train_preprocessed.csv\")\n",
    "test = pd.read_csv(\"../data/fraud_test_preprocessed.csv\")"
   ]
  },
  {
   "cell_type": "code",
   "execution_count": 12,
   "metadata": {},
   "outputs": [],
   "source": [
    "# Drop nan columns as they are not useful for reconstruction error\n",
    "nan_columns = [f for f in train.columns if 'nan' in f]\n",
    "train = train.drop(nan_columns, axis=1)\n",
    "test = test.drop(nan_columns, axis=1)"
   ]
  },
  {
   "cell_type": "code",
   "execution_count": 13,
   "metadata": {},
   "outputs": [],
   "source": [
    "# Also, using only numerical columns because NNs have issue with one-hot encoding \n",
    "num_cols = train.columns[:-125]"
   ]
  },
  {
   "cell_type": "code",
   "execution_count": 14,
   "metadata": {},
   "outputs": [],
   "source": [
    "# Validation size is 10%\n",
    "val_size = int(train.shape[0] * 0.1)\n",
    "X_train = train.iloc[:-val_size, :]\n",
    "X_val = train.iloc[-val_size:, :]\n",
    "\n",
    "# Labelled 1% of data, everything else is unlabelled\n",
    "X_train_labelled = train.sample(frac=0.01)\n",
    "y_train_labelled = X_train_labelled.pop('isFraud')\n",
    "\n",
    "X_val_labelled = X_val.sample(frac=0.01)\n",
    "y_val_labelled = X_val_labelled.pop('isFraud')\n",
    "\n",
    "X_train_unlabelled = X_train.loc[~X_train.index.isin(X_train_labelled.index), :].drop('isFraud', axis=1)\n",
    "X_val_unlabelled = X_val.loc[~X_val.index.isin(X_val_labelled.index), :].drop('isFraud', axis=1)"
   ]
  },
  {
   "cell_type": "code",
   "execution_count": 15,
   "metadata": {},
   "outputs": [],
   "source": [
    "X_train_labelled = X_train_labelled[num_cols]\n",
    "X_val_labelled = X_val_labelled[num_cols]\n",
    "\n",
    "X_train_unlabelled = X_train_unlabelled[num_cols]\n",
    "X_val_unlabelled = X_val_unlabelled[num_cols]"
   ]
  },
  {
   "cell_type": "code",
   "execution_count": 16,
   "metadata": {},
   "outputs": [
    {
     "data": {
      "text/plain": [
       "((531, 110), (5315, 110))"
      ]
     },
     "execution_count": 16,
     "metadata": {},
     "output_type": "execute_result"
    }
   ],
   "source": [
    "X_val_labelled.shape, X_train_labelled.shape"
   ]
  },
  {
   "cell_type": "code",
   "execution_count": 17,
   "metadata": {},
   "outputs": [
    {
     "name": "stdout",
     "output_type": "stream",
     "text": [
      "Labelled Fraudsters 176.0\n",
      "Labelled Proportion: 0.0111\n"
     ]
    }
   ],
   "source": [
    "print(\"Labelled Fraudsters\", y_train_labelled.sum())\n",
    "\n",
    "print(\n",
    "    \"Labelled Proportion:\", \n",
    "    np.round(X_train_labelled.shape[0] / (X_train_unlabelled.shape[0] + X_train_labelled.shape[0]), 5)\n",
    ")"
   ]
  },
  {
   "cell_type": "markdown",
   "metadata": {},
   "source": [
    "The following model will be trained with these hyperparameters:"
   ]
  },
  {
   "cell_type": "code",
   "execution_count": 241,
   "metadata": {},
   "outputs": [],
   "source": [
    "vime_params = {\n",
    "    'alpha': 4, \n",
    "    'beta': 10, \n",
    "    'k': 5, \n",
    "    'p_m': 0.36\n",
    "}"
   ]
  },
  {
   "cell_type": "markdown",
   "metadata": {},
   "source": [
    "## Self-Supervised Learning"
   ]
  },
  {
   "cell_type": "markdown",
   "metadata": {},
   "source": [
    "### Data Prep"
   ]
  },
  {
   "cell_type": "markdown",
   "metadata": {},
   "source": [
    "The model needs 1 input - corrupted X, and 2 outputs - mask and original X. "
   ]
  },
  {
   "cell_type": "code",
   "execution_count": 249,
   "metadata": {
    "scrolled": true
   },
   "outputs": [],
   "source": [
    "batch_size = 1024\n",
    "\n",
    "# Datasets\n",
    "train_ds, train_m = to_vime_dataset(X_train_unlabelled, vime_params['p_m'], batch_size=batch_size, shuffle=True)\n",
    "val_ds, val_m = to_vime_dataset(X_val_unlabelled, vime_params['p_m'], batch_size=batch_size)\n",
    "num_features = X_train_unlabelled.shape[1]\n",
    "\n",
    "print('Proportion Corrupted:', np.round(train_m.numpy().mean(), 2))\n",
    "\n",
    "# Training\n",
    "vime_s = VIME_Self(num_features)\n",
    "vime_s.compile(\n",
    "    optimizer=tf.keras.optimizers.Adam(learning_rate=0.001),\n",
    "    loss={\n",
    "        'mask': 'binary_crossentropy', \n",
    "        'feature': 'mean_squared_error'},\n",
    "    loss_weights={'mask':1, 'feature': vime_params['alpha']}\n",
    ")\n",
    "\n",
    "cbs = [tf.keras.callbacks.EarlyStopping(\n",
    "        monitor=\"val_loss\", patience=10, restore_best_weights=True\n",
    "    )]\n",
    "\n",
    "vime_s.fit(\n",
    "    train_ds,\n",
    "    validation_data=val_ds,\n",
    "    epochs=1000,\n",
    "    callbacks=cbs\n",
    ")\n",
    "\n",
    "vime_s.save('./vime_self')"
   ]
  },
  {
   "cell_type": "code",
   "execution_count": 193,
   "metadata": {},
   "outputs": [],
   "source": [
    "vime_s = tf.keras.models.load_model('./vime_self')"
   ]
  },
  {
   "cell_type": "markdown",
   "metadata": {},
   "source": [
    "### Evaluation"
   ]
  },
  {
   "cell_type": "markdown",
   "metadata": {},
   "source": [
    "All the evaluation will be done on the validation set"
   ]
  },
  {
   "cell_type": "code",
   "execution_count": 149,
   "metadata": {},
   "outputs": [],
   "source": [
    "val_self_preds = vime_s.predict(val_ds)"
   ]
  },
  {
   "cell_type": "markdown",
   "metadata": {},
   "source": [
    "To evaluate the mask reconstruction ability we can simply check the ROC AUC score for mask predictions across all the features. "
   ]
  },
  {
   "cell_type": "code",
   "execution_count": 203,
   "metadata": {},
   "outputs": [
    {
     "name": "stderr",
     "output_type": "stream",
     "text": [
      "100%|██████████| 110/110 [00:02<00:00, 49.70it/s]\n"
     ]
    }
   ],
   "source": [
    "feature_aucs = []\n",
    "for i in tqdm(range(X_val_unlabelled.shape[1])):\n",
    "    roc = roc_auc_score(val_m.numpy()[:, i], val_self_preds['mask'][:, i])\n",
    "    feature_aucs.append(roc)"
   ]
  },
  {
   "cell_type": "code",
   "execution_count": 206,
   "metadata": {},
   "outputs": [],
   "source": [
    "self_metrics = pd.DataFrame({\"metric\": 'mask_auc', \n",
    "             \"metric_values\": feature_aucs})"
   ]
  },
  {
   "cell_type": "markdown",
   "metadata": {},
   "source": [
    "Now, we can evaluate the feature reconstruction ability using RMSE and correlation coefficients"
   ]
  },
  {
   "cell_type": "code",
   "execution_count": 209,
   "metadata": {},
   "outputs": [],
   "source": [
    "feature_corrs = []\n",
    "for i in tqdm(range(X_val_unlabelled.shape[1])):\n",
    "    c = np.corrcoef(X_val_unlabelled.values[:, i], val_self_preds['feature'][:, i])[0, 1]\n",
    "    feature_corrs.append(c)\n",
    "    \n",
    "self_metrics = pd.concat([\n",
    "    self_metrics,\n",
    "    pd.DataFrame({\"metric\": 'feature_correlation', \n",
    "             \"metric_values\": feature_corrs})\n",
    "])"
   ]
  },
  {
   "cell_type": "markdown",
   "metadata": {},
   "source": [
    "From the plot and table above, we can see that the model has learned to reconstruct most of the features. Half of the features are reconstructed with relatively strong correlation with original data. Only a handful of features are not properly reconstructed. Let's check the RMSE across all the features"
   ]
  },
  {
   "cell_type": "code",
   "execution_count": 211,
   "metadata": {},
   "outputs": [],
   "source": [
    "rmses = []\n",
    "for i in tqdm(range(X_val_unlabelled.shape[1])):\n",
    "    mse = mean_squared_error(X_val_unlabelled.values[:, i], val_self_preds['feature'][:, i])\n",
    "    rmses.append(np.sqrt(mse))\n",
    "    \n",
    "self_metrics = pd.concat([\n",
    "    self_metrics,\n",
    "    pd.DataFrame({\"metric\": 'RMSE', \n",
    "             \"metric_values\": rmses})\n",
    "])"
   ]
  },
  {
   "cell_type": "code",
   "execution_count": 216,
   "metadata": {},
   "outputs": [
    {
     "data": {
      "text/plain": [
       "Text(0.5, 1.0, 'Self-Supervised VIME Evaluation')"
      ]
     },
     "execution_count": 216,
     "metadata": {},
     "output_type": "execute_result"
    },
    {
     "data": {
      "image/png": "[encoded data removed]",
      "text/plain": [
       "<Figure size 1440x720 with 1 Axes>"
      ]
     },
     "metadata": {
      "needs_background": "light"
     },
     "output_type": "display_data"
    }
   ],
   "source": [
    "sns.boxplot(x=self_metrics['metric'], y=self_metrics['metric_values'])\n",
    "plt.title(\"Self-Supervised VIME Evaluation\")"
   ]
  },
  {
   "cell_type": "markdown",
   "metadata": {},
   "source": [
    "RMSE distribution further indicates that mjority of the features are well-reconstructed."
   ]
  },
  {
   "cell_type": "markdown",
   "metadata": {},
   "source": [
    "Another way to evaluate the self-supervised model is to look at the embeddings. Since the whole point of corrupting the dataset is to learn to generate robust embeddings, we can assume that if a sample was corrupted 5 times, all 5 embeddings should be relatively close to each other in the vector space. Let's check this hypothesis by corrupting 10 different samples 5 times and projecting their embeddings to 2-dimensional space using UMAP."
   ]
  },
  {
   "cell_type": "code",
   "execution_count": 157,
   "metadata": {},
   "outputs": [],
   "source": [
    "from tensorflow.keras.models import Sequential\n",
    "from tensorflow.keras.layers import Input, Dense, Dropout\n",
    "\n",
    "\n",
    "def generate_k_corrupted(x, k, p_m):\n",
    "    x_u_list = []\n",
    "    for i in range(k):\n",
    "        mask = mask_generator_tf(p_m, x)\n",
    "        _, x_corr = pretext_generator_tf(mask, tf.constant(x, dtype=tf.float32))\n",
    "        x_u_list.append(x_corr)\n",
    "    \n",
    "    \n",
    "    # Prepare input with shape (n, k, d)\n",
    "    x_u_corrupted = np.zeros((x.shape[0], k, x.shape[1]))\n",
    "    for i in range(x.shape[0]):\n",
    "        for j in range(k):\n",
    "            x_u_corrupted[i, j, :] = x_u_list[j][i, :]\n",
    "    \n",
    "    return x_u_corrupted"
   ]
  },
  {
   "cell_type": "code",
   "execution_count": 200,
   "metadata": {},
   "outputs": [
    {
     "name": "stdout",
     "output_type": "stream",
     "text": [
      "WARNING:tensorflow:Model was constructed with shape (None, 110) for input KerasTensor(type_spec=TensorSpec(shape=(None, 110), dtype=tf.float32, name='input_41'), name='input_41', description=\"created by layer 'input_41'\"), but it was called on an input with incompatible shape (None, 5, 110).\n",
      "WARNING:tensorflow:Model was constructed with shape (None, 110) for input KerasTensor(type_spec=TensorSpec(shape=(None, 110), dtype=tf.float32, name='dense_104_input'), name='dense_104_input', description=\"created by layer 'dense_104_input'\"), but it was called on an input with incompatible shape (None, 5, 110).\n",
      "WARNING:tensorflow:Model was constructed with shape (None, 110) for input KerasTensor(type_spec=TensorSpec(shape=(None, 110), dtype=tf.float32, name='input_42'), name='input_42', description=\"created by layer 'input_42'\"), but it was called on an input with incompatible shape (None, 5, 110).\n"
     ]
    }
   ],
   "source": [
    "vime_s = tf.keras.models.load_model('./vime_self')\n",
    "\n",
    "# Sequential model to produce embeddings\n",
    "encoding_model = Sequential(\n",
    "    [\n",
    "        Input(num_features),\n",
    "        vime_s.encoder\n",
    "    ]\n",
    ")\n",
    "\n",
    "dense_model = Sequential(\n",
    "    [\n",
    "        Input(num_features),\n",
    "        Dense(num_features, activation=\"relu\"),\n",
    "    \n",
    "    ]\n",
    ")\n",
    "\n",
    "# Create corrupted sample\n",
    "samples = X_val_unlabelled.sample(10)\n",
    "sample_corrupted = generate_k_corrupted(\n",
    "    x=samples,\n",
    "    k=5,\n",
    "    p_m=0.4\n",
    ")\n",
    "\n",
    "val_encoding = encoding_model.predict(sample_corrupted, batch_size=batch_size)\n",
    "random_encoding = dense_model.predict(sample_corrupted, batch_size=batch_size)"
   ]
  },
  {
   "cell_type": "code",
   "execution_count": 201,
   "metadata": {},
   "outputs": [
    {
     "name": "stderr",
     "output_type": "stream",
     "text": [
      "Pass the following variables as keyword args: x, y. From version 0.12, the only valid positional argument will be `data`, and passing other arguments without an explicit keyword will result in an error or misinterpretation.\n",
      "No handles with labels found to put in legend.\n",
      "Pass the following variables as keyword args: x, y. From version 0.12, the only valid positional argument will be `data`, and passing other arguments without an explicit keyword will result in an error or misinterpretation.\n"
     ]
    },
    {
     "data": {
      "image/png": "[encoded data removed]",
      "text/plain": [
       "<Figure size 1440x720 with 2 Axes>"
      ]
     },
     "metadata": {
      "needs_background": "light"
     },
     "output_type": "display_data"
    }
   ],
   "source": [
    "fig, axs = plt.subplots(1, 2)\n",
    "\n",
    "# Project corrupted samples\n",
    "u = umap.UMAP(n_neighbors=5, min_dist=0.8)\n",
    "corrupted_umap = u.fit_transform(val_encoding.reshape(-1, val_encoding.shape[2]))\n",
    "sample_ids = np.array([np.repeat(i, 5) for i in range(10)]).ravel()\n",
    "sns.scatterplot(corrupted_umap[:, 0], corrupted_umap[:, 1], hue=sample_ids, palette=\"tab10\", ax=axs[0])\n",
    "axs[0].set_title('VIME Embeddings of Corrupted Samples')\n",
    "plt.legend(title='Sample ID')\n",
    "\n",
    "# Project corrupted samples\n",
    "u = umap.UMAP(n_neighbors=5, min_dist=0.8)\n",
    "corrupted_umap = u.fit_transform(random_encoding.reshape(-1, random_encoding.shape[2]))\n",
    "sample_ids = np.array([np.repeat(i, 5) for i in range(10)]).ravel()\n",
    "sns.scatterplot(corrupted_umap[:, 0], corrupted_umap[:, 1], hue=sample_ids, palette=\"tab10\", ax=axs[1])\n",
    "axs[1].set_title('Not-trained Embeddings of Corrupted Samples')\n",
    "\n",
    "plt.legend(title='Sample ID')\n",
    "plt.show()"
   ]
  },
  {
   "cell_type": "markdown",
   "metadata": {},
   "source": [
    "As you can see, the embeddings indeed put the same samples closer to each other, even though some of their values were corrupted. According to the authors, this means that the model has learned useful information about the feature correlations which can be helpful in the downstream tasks. Now, we can use this encoder in the next semi-supervised part."
   ]
  },
  {
   "cell_type": "markdown",
   "metadata": {},
   "source": [
    "## Semi-Supervised Learning"
   ]
  },
  {
   "cell_type": "code",
   "execution_count": 244,
   "metadata": {},
   "outputs": [],
   "source": [
    "semi_batch_size = 512\n",
    "num_features = X_train_unlabelled.shape[1]"
   ]
  },
  {
   "cell_type": "markdown",
   "metadata": {},
   "source": [
    "Since we have different number of labelled and unlabelled examples we need to use generators. They will shuffle and select appropriate number of rows for each training iteration."
   ]
  },
  {
   "cell_type": "code",
   "execution_count": 162,
   "metadata": {},
   "outputs": [],
   "source": [
    "def train_semi_generator():\n",
    "    return semi_supervised_generator(\n",
    "        X_train_labelled.values,\n",
    "        X_train_unlabelled.values, \n",
    "        y_train_labelled.values, \n",
    "        bs=semi_batch_size\n",
    "    )\n",
    "\n",
    "def val_semi_generator():\n",
    "    return semi_supervised_generator(\n",
    "        X_val_labelled.values,\n",
    "        X_val_unlabelled.values, \n",
    "        y_val_labelled.values, \n",
    "        bs=semi_batch_size\n",
    "    )\n",
    "\n",
    "semi_train_dataset = tf.data.Dataset.from_generator(\n",
    "     train_semi_generator,\n",
    "     output_signature=(\n",
    "         tf.TensorSpec(shape=(semi_batch_size, num_features), dtype=tf.float32),\n",
    "         tf.TensorSpec(shape=(semi_batch_size), dtype=tf.float32),\n",
    "         tf.TensorSpec(shape=(semi_batch_size, num_features), dtype=tf.float32)\n",
    "     )\n",
    ")\n",
    "\n",
    "semi_val_dataset = tf.data.Dataset.from_generator(\n",
    "     val_semi_generator,\n",
    "     output_signature=(\n",
    "         tf.TensorSpec(shape=(semi_batch_size, num_features), dtype=tf.float32),\n",
    "         tf.TensorSpec(shape=(semi_batch_size), dtype=tf.float32),\n",
    "         tf.TensorSpec(shape=(semi_batch_size, num_features), dtype=tf.float32)\n",
    "     )\n",
    ")"
   ]
  },
  {
   "cell_type": "markdown",
   "metadata": {},
   "source": [
    "## Self Supervised VIME"
   ]
  },
  {
   "cell_type": "code",
   "execution_count": 165,
   "metadata": {},
   "outputs": [],
   "source": [
    "def train_vime_semi(encoder, train_dataset, val_dataset, train_params, vime_params):\n",
    "    # Model\n",
    "    vime = VIME(encoder)\n",
    "    \n",
    "    # Training parameters\n",
    "    iterations = train_params['iterations']\n",
    "    optimizer = tf.keras.optimizers.Adam(train_params['learning_rate'])\n",
    "    early_stop = train_params['early_stop']\n",
    "    \n",
    "    # Set metrics to track\n",
    "    best_loss = 1e10\n",
    "    no_improve = 0\n",
    "    \n",
    "    # Begining training loop\n",
    "    for it in range(iterations):\n",
    "        # Grab a batch for iteration\n",
    "        it_train = iter(train_dataset)\n",
    "        X_l, y_l, X_u = next(it_train)\n",
    "        \n",
    "        # Generate unlabelled batch with k corrupted examples per sample\n",
    "        X_u_corrupted = generate_k_corrupted(X_u, vime_params['k'], vime_params['p_m'])\n",
    "        \n",
    "        with tf.GradientTape() as tape:\n",
    "            # Predict labelled & unlabelled\n",
    "            labelled_preds = vime(X_l)\n",
    "            unlabelled_preds = vime(X_u_corrupted)\n",
    "\n",
    "            # Calculate losses\n",
    "            labelled_loss = labelled_loss_fn(y_l, labelled_preds)\n",
    "            unlabelled_loss = unlabelled_loss_fn(unlabelled_preds)\n",
    "\n",
    "            # Total loss\n",
    "            semi_supervised_loss = unlabelled_loss + vime_params['beta'] * labelled_loss\n",
    "        \n",
    "        if it % 10 == 0:\n",
    "            val_iter_losses = []\n",
    "            print(f\"\\nMetrics for Iteration {it}\")\n",
    "            for i in range(5):\n",
    "                # Grab a batch\n",
    "                it_val = iter(val_dataset)\n",
    "                X_l_val, y_l_val, X_u_val = next(it_val)\n",
    "\n",
    "                # Generate unlabelled batch with k corrupted examples per sample\n",
    "                X_u_corrupted = generate_k_corrupted(X_u_val, vime_params['k'], vime_params['p_m'])\n",
    "\n",
    "                # Predict labelled & unlabelled\n",
    "                labelled_preds_val = vime(X_l_val)\n",
    "                unlabelled_preds_val = vime(X_u_corrupted)\n",
    "\n",
    "                # Calculate losses\n",
    "                labelled_loss_val = labelled_loss_fn(y_l_val, labelled_preds_val)\n",
    "                unlabelled_loss_val = unlabelled_loss_fn(unlabelled_preds_val)\n",
    "                semi_supervised_loss_val = unlabelled_loss_val + vime_params['beta'] * labelled_loss_val\n",
    "                val_iter_losses.append(semi_supervised_loss_val)\n",
    "            \n",
    "            # Average loss over 5 validation iterations\n",
    "            semi_supervised_loss_val = np.mean(val_iter_losses)\n",
    "\n",
    "            print(f\"Train Loss {np.round(semi_supervised_loss, 5)}, Val Loss {np.round(semi_supervised_loss_val, 5)}\")\n",
    "            # Update metrics if val_loss is better\n",
    "            if semi_supervised_loss_val < best_loss:\n",
    "                best_loss = semi_supervised_loss_val\n",
    "                no_improve = 0\n",
    "                vime.save('./vime')\n",
    "            else:\n",
    "                no_improve += 1\n",
    "                print(f\"Validation loss not improved {no_improve} times\")\n",
    "\n",
    "            # Early stopping\n",
    "            if no_improve == early_stop:\n",
    "                break\n",
    "        \n",
    "        # Update weights\n",
    "        grads = tape.gradient(semi_supervised_loss, vime.trainable_weights)\n",
    "        optimizer.apply_gradients(zip(grads, vime.trainable_weights))\n",
    "\n",
    "    vime = tf.keras.models.load_model('./vime')\n",
    "\n",
    "    return vime"
   ]
  },
  {
   "cell_type": "code",
   "execution_count": 248,
   "metadata": {
    "scrolled": true
   },
   "outputs": [],
   "source": [
    "train_params = {\n",
    "    'num_features': num_features,\n",
    "    'iterations': 1000,\n",
    "    'early_stop': 20,\n",
    "    'learning_rate': 0.001\n",
    "}\n",
    "\n",
    "vime_self = tf.keras.models.load_model('./vime_self')\n",
    "\n",
    "vime_semi = train_vime_semi(\n",
    "    encoder = vime_self.encoder,\n",
    "    train_dataset = semi_train_dataset, \n",
    "    val_dataset = semi_val_dataset,\n",
    "    train_params = train_params,\n",
    "    vime_params = vime_params\n",
    ")\n"
   ]
  },
  {
   "cell_type": "code",
   "execution_count": 220,
   "metadata": {},
   "outputs": [
    {
     "name": "stdout",
     "output_type": "stream",
     "text": [
      "WARNING:tensorflow:No training configuration found in save file, so the model was *not* compiled. Compile it manually.\n",
      "0.38815360485173106\n"
     ]
    }
   ],
   "source": [
    "test_ds = tf.data.Dataset.from_tensor_slices(test[num_cols]).batch(batch_size)\n",
    "\n",
    "vime_tuned_preds = vime_semi.predict(test_ds)\n",
    "pr = average_precision_score(test['isFraud'], vime_tuned_preds)\n",
    "print(pr)"
   ]
  },
  {
   "cell_type": "markdown",
   "metadata": {},
   "source": [
    "## Evaluation"
   ]
  },
  {
   "cell_type": "markdown",
   "metadata": {},
   "source": [
    "Re-training the model 10 times to get distribution of PR AUC scores."
   ]
  },
  {
   "cell_type": "code",
   "execution_count": 247,
   "metadata": {
    "scrolled": true
   },
   "outputs": [],
   "source": [
    "vime_prs = []\n",
    "test_ds = tf.data.Dataset.from_tensor_slices(test[num_cols]).batch(batch_size)\n",
    "\n",
    "for i in range(10):\n",
    "    train_params = {\n",
    "        'num_features': num_features,\n",
    "        'iterations': 1000,\n",
    "        'early_stop': 10,\n",
    "        'learning_rate': 0.001\n",
    "    }\n",
    "    vime_self = tf.keras.models.load_model('./vime_self')\n",
    "    vime_self.encoder.trainable = False\n",
    "    vime_semi = train_vime_semi(\n",
    "        encoder = vime_self.encoder,\n",
    "        train_dataset = semi_train_dataset, \n",
    "        val_dataset = semi_val_dataset,\n",
    "        train_params = train_params,\n",
    "        vime_params = vime_params\n",
    "    )\n",
    "    # fine-tune\n",
    "    vime_semi = tf.keras.models.load_model('./vime')\n",
    "    vime_semi.encoder.trainable\n",
    "\n",
    "\n",
    "    vime_tuned_preds = vime_semi.predict(test_ds)\n",
    "    pr = average_precision_score(test['isFraud'], vime_tuned_preds)\n",
    "    vime_prs.append(pr)\n",
    "    print('VIME Train', i, \"PR AUC:\", pr)"
   ]
  },
  {
   "cell_type": "markdown",
   "metadata": {},
   "source": [
    "### Compare with MLP and RF"
   ]
  },
  {
   "cell_type": "code",
   "execution_count": null,
   "metadata": {},
   "outputs": [],
   "source": [
    "mlp_prs = []\n",
    "\n",
    "for i in range(10):\n",
    "    base_mlp = Sequential([\n",
    "        Input(shape=num_features),\n",
    "        Dense(num_features),\n",
    "        Dense(128),\n",
    "        Dropout(0.2),\n",
    "        Dense(128),\n",
    "        Dropout(0.2),\n",
    "        Dense(1, activation='sigmoid')\n",
    "    ])\n",
    "\n",
    "    base_mlp.compile(\n",
    "        optimizer=tf.keras.optimizers.Adam(learning_rate=0.0001),\n",
    "        loss='binary_crossentropy'\n",
    "    )\n",
    "\n",
    "    # Early stopping based on validation loss    \n",
    "    cbs = [tf.keras.callbacks.EarlyStopping(\n",
    "            monitor=\"val_loss\", patience=20, restore_best_weights=True\n",
    "        )]\n",
    "\n",
    "    base_mlp.fit(\n",
    "        x=X_train_labelled.values,\n",
    "        y=y_train_labelled,\n",
    "        validation_data=(X_val_labelled.values, y_val_labelled),\n",
    "        epochs=1000,\n",
    "        callbacks=cbs\n",
    "    )\n",
    "\n",
    "    base_mlp_preds = base_mlp.predict(test_ds)\n",
    "    mlp_prs.append(average_precision_score(test['isFraud'], base_mlp_preds))"
   ]
  },
  {
   "cell_type": "code",
   "execution_count": 231,
   "metadata": {},
   "outputs": [
    {
     "name": "stderr",
     "output_type": "stream",
     "text": [
      "100%|██████████| 10/10 [00:07<00:00,  1.28it/s]\n"
     ]
    }
   ],
   "source": [
    "from lightgbm import LGBMClassifier\n",
    "\n",
    "train_tree_X = pd.concat([X_train_labelled, X_val_labelled])\n",
    "train_tree_y = pd.concat([y_train_labelled, y_val_labelled])\n",
    "\n",
    "rf_prs = []\n",
    "for i in tqdm(range(10)):\n",
    "    rf = RandomForestClassifier(max_depth=4)\n",
    "    rf.fit(train_tree_X.values, train_tree_y)\n",
    "    rf_preds = rf.predict_proba(test[X_train_labelled.columns])\n",
    "    rf_prs.append(average_precision_score(test['isFraud'], rf_preds[:, 1]))"
   ]
  },
  {
   "cell_type": "code",
   "execution_count": 235,
   "metadata": {},
   "outputs": [
    {
     "data": {
      "image/png": "[encoded data removed]",
      "text/plain": [
       "<Figure size 1440x720 with 1 Axes>"
      ]
     },
     "metadata": {
      "needs_background": "light"
     },
     "output_type": "display_data"
    }
   ],
   "source": [
    "metrics_df = pd.DataFrame({\"MLP\": mlp_prs,\n",
    "             \"VIME\": vime_prs,\n",
    "             \"RF\": rf_prs})\n",
    "\n",
    "metrics_df.boxplot()\n",
    "plt.ylabel(\"PR AUC\")\n",
    "plt.show()"
   ]
  },
  {
   "cell_type": "code",
   "execution_count": 236,
   "metadata": {},
   "outputs": [
    {
     "data": {
      "text/html": [
       "<div>\n",
       "<style scoped>\n",
       "    .dataframe tbody tr th:only-of-type {\n",
       "        vertical-align: middle;\n",
       "    }\n",
       "\n",
       "    .dataframe tbody tr th {\n",
       "        vertical-align: top;\n",
       "    }\n",
       "\n",
       "    .dataframe thead th {\n",
       "        text-align: right;\n",
       "    }\n",
       "</style>\n",
       "<table border=\"1\" class=\"dataframe\">\n",
       "  <thead>\n",
       "    <tr style=\"text-align: right;\">\n",
       "      <th></th>\n",
       "      <th>MLP</th>\n",
       "      <th>VIME</th>\n",
       "      <th>RF</th>\n",
       "    </tr>\n",
       "  </thead>\n",
       "  <tbody>\n",
       "    <tr>\n",
       "      <th>count</th>\n",
       "      <td>10.000000</td>\n",
       "      <td>10.000000</td>\n",
       "      <td>10.000000</td>\n",
       "    </tr>\n",
       "    <tr>\n",
       "      <th>mean</th>\n",
       "      <td>0.318847</td>\n",
       "      <td>0.370264</td>\n",
       "      <td>0.354883</td>\n",
       "    </tr>\n",
       "    <tr>\n",
       "      <th>std</th>\n",
       "      <td>0.014776</td>\n",
       "      <td>0.010052</td>\n",
       "      <td>0.007481</td>\n",
       "    </tr>\n",
       "    <tr>\n",
       "      <th>min</th>\n",
       "      <td>0.299667</td>\n",
       "      <td>0.352266</td>\n",
       "      <td>0.341996</td>\n",
       "    </tr>\n",
       "    <tr>\n",
       "      <th>25%</th>\n",
       "      <td>0.304485</td>\n",
       "      <td>0.364469</td>\n",
       "      <td>0.349961</td>\n",
       "    </tr>\n",
       "    <tr>\n",
       "      <th>50%</th>\n",
       "      <td>0.322631</td>\n",
       "      <td>0.369486</td>\n",
       "      <td>0.355842</td>\n",
       "    </tr>\n",
       "    <tr>\n",
       "      <th>75%</th>\n",
       "      <td>0.327522</td>\n",
       "      <td>0.377327</td>\n",
       "      <td>0.361452</td>\n",
       "    </tr>\n",
       "    <tr>\n",
       "      <th>max</th>\n",
       "      <td>0.341173</td>\n",
       "      <td>0.386599</td>\n",
       "      <td>0.364158</td>\n",
       "    </tr>\n",
       "  </tbody>\n",
       "</table>\n",
       "</div>"
      ],
      "text/plain": [
       "             MLP       VIME         RF\n",
       "count  10.000000  10.000000  10.000000\n",
       "mean    0.318847   0.370264   0.354883\n",
       "std     0.014776   0.010052   0.007481\n",
       "min     0.299667   0.352266   0.341996\n",
       "25%     0.304485   0.364469   0.349961\n",
       "50%     0.322631   0.369486   0.355842\n",
       "75%     0.327522   0.377327   0.361452\n",
       "max     0.341173   0.386599   0.364158"
      ]
     },
     "execution_count": 236,
     "metadata": {},
     "output_type": "execute_result"
    }
   ],
   "source": [
    "metrics_df.describe()"
   ]
  },
  {
   "cell_type": "code",
   "execution_count": null,
   "metadata": {},
   "outputs": [],
   "source": []
  }
 ],
 "metadata": {
  "kernelspec": {
   "display_name": "Python 3",
   "language": "python",
   "name": "python3"
  },
  "language_info": {
   "codemirror_mode": {
    "name": "ipython",
    "version": 3
   },
   "file_extension": ".py",
   "mimetype": "text/x-python",
   "name": "python",
   "nbconvert_exporter": "python",
   "pygments_lexer": "ipython3",
   "version": "3.6.0"
  }
 },
 "nbformat": 4,
 "nbformat_minor": 4
}
